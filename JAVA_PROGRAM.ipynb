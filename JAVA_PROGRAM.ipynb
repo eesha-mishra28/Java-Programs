{
  "nbformat": 4,
  "nbformat_minor": 0,
  "metadata": {
    "colab": {
      "provenance": [],
      "authorship_tag": "ABX9TyOSR3kCWCDVP7J7M2G8UqDp",
      "include_colab_link": true
    },
    "kernelspec": {
      "name": "python3",
      "display_name": "Python 3"
    },
    "language_info": {
      "name": "python"
    }
  },
  "cells": [
    {
      "cell_type": "markdown",
      "metadata": {
        "id": "view-in-github",
        "colab_type": "text"
      },
      "source": [
        "<a href=\"https://colab.research.google.com/github/eesha-mishra28/Java-Programs/blob/main/JAVA_PROGRAM.ipynb\" target=\"_parent\"><img src=\"https://colab.research.google.com/assets/colab-badge.svg\" alt=\"Open In Colab\"/></a>"
      ]
    },
    {
      "cell_type": "code",
      "execution_count": null,
      "metadata": {
        "colab": {
          "base_uri": "https://localhost:8080/"
        },
        "id": "WSqTpZKY4vUv",
        "outputId": "59af13a6-12c0-4c76-db34-9a04594128a3"
      },
      "outputs": [
        {
          "output_type": "stream",
          "name": "stdout",
          "text": [
            "openjdk version \"11.0.28\" 2025-07-15\n",
            "OpenJDK Runtime Environment (build 11.0.28+6-post-Ubuntu-1ubuntu122.04.1)\n",
            "OpenJDK 64-Bit Server VM (build 11.0.28+6-post-Ubuntu-1ubuntu122.04.1, mixed mode, sharing)\n"
          ]
        }
      ],
      "source": [
        "!java -version\n"
      ]
    },
    {
      "cell_type": "code",
      "source": [
        "%%writefile Patterns.java\n",
        "public class Patterns{\n",
        "    public static void main(String[] args) {\n",
        "        System.out.println(\"Hello from Java!\");\n",
        "    }\n",
        "}\n"
      ],
      "metadata": {
        "colab": {
          "base_uri": "https://localhost:8080/"
        },
        "id": "W1kQ2h3G6Lbm",
        "outputId": "1430da12-7f60-46d1-d035-24a5e194b478"
      },
      "execution_count": null,
      "outputs": [
        {
          "output_type": "stream",
          "name": "stdout",
          "text": [
            "Overwriting Patterns.java\n"
          ]
        }
      ]
    },
    {
      "cell_type": "code",
      "source": [
        "!javac Patterns.java\n"
      ],
      "metadata": {
        "id": "O-SV3qkD6p8Z"
      },
      "execution_count": null,
      "outputs": []
    },
    {
      "cell_type": "code",
      "source": [
        "!java Patterns\n"
      ],
      "metadata": {
        "colab": {
          "base_uri": "https://localhost:8080/"
        },
        "id": "DdHYaRtA63Id",
        "outputId": "5b1ed9df-f9cf-4c26-a62a-8650366a44e9"
      },
      "execution_count": null,
      "outputs": [
        {
          "output_type": "stream",
          "name": "stdout",
          "text": [
            "Hello from Java!\n"
          ]
        }
      ]
    },
    {
      "cell_type": "code",
      "source": [
        "%%writefile Pro.java\n",
        "public class Pro{\n",
        "    public static void main(String[] args) {\n",
        "       int n=5;\n",
        "       for(int i=1;i<=n;i++){\n",
        "          for(int j=1;j<=n;j++){\n",
        "            if(i==1||i==n||j==1||j==n){\n",
        "              System.out.print(\"*\");\n",
        "            }\n",
        "            else{\n",
        "              System.out.print(\" \");\n",
        "            }\n",
        "          }\n",
        "          System.out.println();\n",
        "       }\n",
        "    }\n",
        "}"
      ],
      "metadata": {
        "colab": {
          "base_uri": "https://localhost:8080/"
        },
        "id": "8OmoHfWr7Cw_",
        "outputId": "4960fe1f-4156-4806-d2f1-523ce22a7438"
      },
      "execution_count": null,
      "outputs": [
        {
          "output_type": "stream",
          "name": "stdout",
          "text": [
            "Overwriting Pro.java\n"
          ]
        }
      ]
    },
    {
      "cell_type": "code",
      "source": [
        "!java Pro.java"
      ],
      "metadata": {
        "colab": {
          "base_uri": "https://localhost:8080/"
        },
        "id": "2Vy8Tvpo8gc3",
        "outputId": "e267531e-2891-42ed-c0bf-02721ee80b46"
      },
      "execution_count": null,
      "outputs": [
        {
          "output_type": "stream",
          "name": "stdout",
          "text": [
            "*****\n",
            "*   *\n",
            "*   *\n",
            "*   *\n",
            "*****\n"
          ]
        }
      ]
    },
    {
      "cell_type": "code",
      "source": [
        "%%writefile Pro.java\n",
        "public class Pro{\n",
        "    public static void main(String[] args) {\n",
        "       int n=5;\n",
        "       for(int i=1;i<=n;i++){\n",
        "          for(int j=1;j<=n;j++){\n",
        "              System.out.print(\"*\");\n",
        "            }\n",
        "\n",
        "          System.out.println();\n",
        "       }\n",
        "    }\n",
        "}"
      ],
      "metadata": {
        "colab": {
          "base_uri": "https://localhost:8080/"
        },
        "id": "ebqaMOcU9aS2",
        "outputId": "6dd7f639-a23f-40e4-9d50-09f857a76159"
      },
      "execution_count": null,
      "outputs": [
        {
          "output_type": "stream",
          "name": "stdout",
          "text": [
            "Overwriting Pro.java\n"
          ]
        }
      ]
    },
    {
      "cell_type": "code",
      "source": [
        "!java Pro.java"
      ],
      "metadata": {
        "colab": {
          "base_uri": "https://localhost:8080/"
        },
        "id": "5baPsGe09vG1",
        "outputId": "4b4dd946-35e5-4310-9658-033bf8f90366"
      },
      "execution_count": null,
      "outputs": [
        {
          "output_type": "stream",
          "name": "stdout",
          "text": [
            "*****\n",
            "*****\n",
            "*****\n",
            "*****\n",
            "*****\n"
          ]
        }
      ]
    },
    {
      "cell_type": "code",
      "source": [
        "%%writefile Pro.java\n",
        "public class Pro{\n",
        "    public static void main(String[] args) {\n",
        "       int n=5;\n",
        "       for(int i=1;i<=n;i++){\n",
        "          for(int j=1;j<=i;j++){\n",
        "              System.out.print(i);\n",
        "            }\n",
        "\n",
        "          System.out.println();\n",
        "       }\n",
        "    }\n",
        "}"
      ],
      "metadata": {
        "colab": {
          "base_uri": "https://localhost:8080/"
        },
        "id": "MNnJs67p98jn",
        "outputId": "40548d8f-c02b-49e9-da32-56b2d52c22c7"
      },
      "execution_count": null,
      "outputs": [
        {
          "output_type": "stream",
          "name": "stdout",
          "text": [
            "Overwriting Pro.java\n"
          ]
        }
      ]
    },
    {
      "cell_type": "code",
      "source": [
        "!java Pro.java"
      ],
      "metadata": {
        "colab": {
          "base_uri": "https://localhost:8080/"
        },
        "id": "Kk0GEP_z-NlE",
        "outputId": "cbe0673f-879a-4c1f-a9ac-4cf1408fb374"
      },
      "execution_count": null,
      "outputs": [
        {
          "output_type": "stream",
          "name": "stdout",
          "text": [
            "1\n",
            "22\n",
            "333\n",
            "4444\n",
            "55555\n"
          ]
        }
      ]
    },
    {
      "cell_type": "code",
      "source": [
        "%%writefile Pro.java\n",
        "public class Pro{\n",
        "    public static void main(String[] args) {\n",
        "       int n=5;\n",
        "       for(int i=1;i<=n;i++){\n",
        "          for(int j=1;j<=i;j++){\n",
        "              System.out.print(j);\n",
        "            }\n",
        "\n",
        "          System.out.println();\n",
        "       }\n",
        "    }\n",
        "}"
      ],
      "metadata": {
        "colab": {
          "base_uri": "https://localhost:8080/"
        },
        "id": "uT24mQNF-Scz",
        "outputId": "f84e21b0-9149-46a2-a706-3901bea11305"
      },
      "execution_count": null,
      "outputs": [
        {
          "output_type": "stream",
          "name": "stdout",
          "text": [
            "Overwriting Pro.java\n"
          ]
        }
      ]
    },
    {
      "cell_type": "code",
      "source": [
        "!java Pro.java"
      ],
      "metadata": {
        "colab": {
          "base_uri": "https://localhost:8080/"
        },
        "id": "oiw155mV-WL1",
        "outputId": "dfeda476-c86b-4451-dffa-694565c193f7"
      },
      "execution_count": null,
      "outputs": [
        {
          "output_type": "stream",
          "name": "stdout",
          "text": [
            "1\n",
            "12\n",
            "123\n",
            "1234\n",
            "12345\n"
          ]
        }
      ]
    },
    {
      "cell_type": "code",
      "source": [
        "%%writefile Pro.java\n",
        "public class Pro{\n",
        "    public static void main(String[] args) {\n",
        "       int n=6;\n",
        "       for(int i=n;i>=1;i--){\n",
        "          for(int j=1;j<=i-1;j++){\n",
        "              System.out.print(j);\n",
        "            }\n",
        "\n",
        "          System.out.println();\n",
        "       }\n",
        "    }\n",
        "}"
      ],
      "metadata": {
        "colab": {
          "base_uri": "https://localhost:8080/"
        },
        "id": "6AXJNFtr-kn1",
        "outputId": "56c55aa0-eb4f-40c5-b93e-fc5accb4f4b2"
      },
      "execution_count": null,
      "outputs": [
        {
          "output_type": "stream",
          "name": "stdout",
          "text": [
            "Overwriting Pro.java\n"
          ]
        }
      ]
    },
    {
      "cell_type": "code",
      "source": [
        "!java Pro.java"
      ],
      "metadata": {
        "colab": {
          "base_uri": "https://localhost:8080/"
        },
        "id": "mICDjALm_mVE",
        "outputId": "523aabbe-806a-4652-b373-bd0a7d837652"
      },
      "execution_count": null,
      "outputs": [
        {
          "output_type": "stream",
          "name": "stdout",
          "text": [
            "12345\n",
            "1234\n",
            "123\n",
            "12\n",
            "1\n",
            "\n"
          ]
        }
      ]
    },
    {
      "cell_type": "code",
      "source": [
        "%%writefile Pro.java\n",
        "public class Pro{\n",
        "    public static void main(String[] args) {\n",
        "       int n=5;\n",
        "       for(int i=n;i>=1;i--){\n",
        "          for(int j=1;j<=i;j++){\n",
        "              System.out.print(i);\n",
        "            }\n",
        "\n",
        "          System.out.println();\n",
        "       }\n",
        "    }\n",
        "}"
      ],
      "metadata": {
        "colab": {
          "base_uri": "https://localhost:8080/"
        },
        "id": "n8hDT9cg__GF",
        "outputId": "1eace677-3798-4356-ab82-3aa1813b565a"
      },
      "execution_count": null,
      "outputs": [
        {
          "output_type": "stream",
          "name": "stdout",
          "text": [
            "Overwriting Pro.java\n"
          ]
        }
      ]
    },
    {
      "cell_type": "code",
      "source": [
        "!java Pro.java"
      ],
      "metadata": {
        "colab": {
          "base_uri": "https://localhost:8080/"
        },
        "id": "haAsSIsyAD6s",
        "outputId": "e27d3553-574c-4c5f-a538-9206c5f382f2"
      },
      "execution_count": null,
      "outputs": [
        {
          "output_type": "stream",
          "name": "stdout",
          "text": [
            "55555\n",
            "4444\n",
            "333\n",
            "22\n",
            "1\n"
          ]
        }
      ]
    },
    {
      "cell_type": "code",
      "source": [
        "!git config --global user.email \"eeshamishra92@gmail.com\"\n",
        "!git config --global user.name \"Eesha Mishra\""
      ],
      "metadata": {
        "id": "5UBJZq_-MHPG"
      },
      "execution_count": 1,
      "outputs": []
    },
    {
      "cell_type": "code",
      "source": [
        "!git clone https://github.com/eesha-mishra28/Java-Programs.git\n",
        "%cd Java-Programs"
      ],
      "metadata": {
        "colab": {
          "base_uri": "https://localhost:8080/"
        },
        "id": "M6IUqjxOMRya",
        "outputId": "73e13548-86d6-4006-c624-0c61fea5df54"
      },
      "execution_count": 3,
      "outputs": [
        {
          "output_type": "stream",
          "name": "stdout",
          "text": [
            "fatal: destination path 'Java-Programs' already exists and is not an empty directory.\n",
            "/content/Java-Programs\n"
          ]
        }
      ]
    }
  ]
}